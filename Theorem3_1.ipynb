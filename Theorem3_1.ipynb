{
 "cells": [
  {
   "cell_type": "code",
   "execution_count": 3,
   "id": "4a3dd6",
   "metadata": {
    "collapsed": false
   },
   "outputs": [
   ],
   "source": [
    "load('definitions.sage')"
   ]
  },
  {
   "cell_type": "markdown",
   "id": "f82bf8",
   "metadata": {
    "collapsed": false
   },
   "source": [
    "**Case 1.** Suppose $T=C_3^0$.\n",
    "\n",
    "**Subcase 1a.** Suppose $v_3(a)=0$. The code below verifies that the elliptic curve $\\widetilde{F}_T$ in the paper is as claimed."
   ]
  },
  {
   "cell_type": "code",
   "execution_count": 4,
   "id": "248063",
   "metadata": {
    "collapsed": false
   },
   "outputs": [
    {
     "name": "stdout",
     "output_type": "stream",
     "text": [
      "a1= 0\n",
      "a2= 3^2\n",
      "a3= 0\n",
      "a4= 3^3\n",
      "a6= (-27/4) * (a - 2) * (a + 2)\n",
      "None\n",
      "(-19683) * a^4\n"
     ]
    }
   ],
   "source": [
    "print(Ais(E30t(a).change_weierstrass_model(1,3,0,-a/2)))\n",
    "print(factor(E30t(a).discriminant()))"
   ]
  },
  {
   "cell_type": "markdown",
   "id": "8de5af",
   "metadata": {
    "collapsed": false
   },
   "source": [
    "**Subcase 1b.** Suppose $v_3(a)=1,2$. The code below gives the signature of $\\widetilde{F}_T$. The valuations given in the article are then verified from these quantities."
   ]
  },
  {
   "cell_type": "code",
   "execution_count": 5,
   "id": "202b30",
   "metadata": {
    "collapsed": false
   },
   "outputs": [
    {
     "name": "stdout",
     "output_type": "stream",
     "text": [
      "(0, (5832) * a^2, (-19683) * a^4)\n"
     ]
    }
   ],
   "source": [
    "print(sig(E30t(a)))"
   ]
  },
  {
   "cell_type": "markdown",
   "id": "09d2d1",
   "metadata": {
    "collapsed": false
   },
   "source": [
    "**Case 2. Suppose $T=C_3$.** Let $a=c^3d^2e$ with $c,d,e\\in \\mathbb{Z^+}$ such that $de$ is squarefree. We consider the elliptic curves $F_T$ and $\\widetilde{F}_T$, which are $\\mathbb{Q}$-isomorphic to $E_T$ and $\\widetilde{E}_T$, respectively. The isomorphism in both cases is given by $[c^2d,0,0,0]$. The elliptic curves $F_T$ and $\\widetilde{F}_T$ are denoted in the code below by $F3$ and $F3t$, respectively. The code below shows that both curves are given by an integral Weierstrass model. The code also verifies that \n",
    "$$\\operatorname{sig}(\\widetilde{F}_T) =(c d^2 e^3 (a + 216b), - d^2 e^4 (a^2 - 540ab - 5832b^2), b d^4 e^8 (a - 27b)^3)$$."
   ]
  },
  {
   "cell_type": "code",
   "execution_count": 6,
   "id": "4d410c",
   "metadata": {
    "collapsed": false
   },
   "outputs": [
    {
     "name": "stdout",
     "output_type": "stream",
     "text": [
      "Elliptic Curve defined by y^2 + c*d*e*x*y + b*d*e^2*y = x^3 over Fraction Field of Multivariate Polynomial Ring in a, b, c, d, e, t, r, s, w over Rational Field\n",
      "Elliptic Curve defined by y^2 + c*d*e*x*y + b*d*e^2*y = x^3 + (-5*b*c*d^2*e^3)*x + (-b*c^3*d^4*e^5-7*b^2*d^2*e^4) over Fraction Field of Multivariate Polynomial Ring in a, b, c, d, e, t, r, s, w over Rational Field\n",
      "(c * d^2 * e^3 * (c^3*d^2*e + 216*b), (-1) * d^2 * e^4 * (c^6*d^4*e^2 - 540*b*c^3*d^2*e - 5832*b^2), b * d^4 * e^8 * (c^3*d^2*e - 27*b)^3)\n"
     ]
    }
   ],
   "source": [
    "print(F3(c,d,e,b))\n",
    "print(F3t(c,d,e,b))\n",
    "print(sig(F3t(c,d,e,b)))"
   ]
  },
  {
   "cell_type": "markdown",
   "id": "b6990f",
   "metadata": {
    "collapsed": false
   },
   "source": [
    "We now proceed by cases.\n",
    "\n",
    "**Subcase 2a.** Suppose $p$ is a prime and that $n=v_p(b)>0$. From the above, and the fact that $\\gcd(cde,b)=1$, we conclude that $\\Delta_{\\widetilde{F}_T} = n$.\n",
    "\n",
    "**Subcase 2b.** Suppose $p \\neq 3$ is prime and that $n=v_p(a-27b)>0$. The code above verifies that $\\Delta_{\\widetilde{F}_T} = 3n$.\n",
    "\n",
    "**Subcase 2c.** This is considered in article.\n",
    "\n",
    "**Subcase 2d.** Suppose $v_3(a-27b)=4$. Then $v_3(a)=3$. In particular, $v_3(c)=1$ and $v_3(de)=0$. Observe that\n",
    "$$a+216b = a-27b +243b \\quad \\Longrightarrow \\quad v_3(a+216b) = 4,$$\n",
    "$$a^2 - 540ab - 5832b^2 = (a-27b)^2 -243b (2(a-27b) + 81  b) \\quad \\Longrightarrow \\quad v_3(a^2 - 540ab - 5832b^2 )=8. $$\n",
    "\n",
    "The last equality is verified with the code below. With the above, it is now easily checked that $\\operatorname{sig}_3(\\widetilde{F}_T) = (5,8,12)$."
   ]
  },
  {
   "cell_type": "code",
   "execution_count": 7,
   "id": "8362dd",
   "metadata": {
    "collapsed": false
   },
   "outputs": [
    {
     "name": "stdout",
     "output_type": "stream",
     "text": [
      "True\n"
     ]
    }
   ],
   "source": [
    "print(a^2 - 540*b*a - 5832*b^2 == (a-27*b)^2 -243* b * (2*(a-27*b) + 81 * b))"
   ]
  },
  {
   "cell_type": "markdown",
   "id": "52779f",
   "metadata": {
    "collapsed": false
   },
   "source": [
    "**Subcase 2e.** Suppose $v_3(a)= 3, v_3(a-27b)=3$, and $bd^2e^3(b^3d^2e^5-c) \\not \\equiv 7 \\mod 9$. In particular, $v_3(c)>0$ and $v_3(de)=0$. Let $\\widetilde{F}'_T$ be the elliptic curve obtained from $\\widetilde{F}_T$ from the isomorphism $[1,0,-cde/2,-bde^2/2]$. The Weierstrass model of $\\widetilde{F}'_T$ is given by the code below. "
   ]
  },
  {
   "cell_type": "code",
   "execution_count": 8,
   "id": "2927b1",
   "metadata": {
    "collapsed": false
   },
   "outputs": [
    {
     "name": "stdout",
     "output_type": "stream",
     "text": [
      "Elliptic Curve defined by y^2 = x^3 + 1/4*c^2*d^2*e^2*x^2 + (-9/2*b*c*d^2*e^3)*x + (-b*c^3*d^4*e^5-27/4*b^2*d^2*e^4) over Fraction Field of Multivariate Polynomial Ring in a, b, c, d, e, t, r, s, w over Rational Field\n"
     ]
    }
   ],
   "source": [
    "print(F3t(c,d,e,b).change_weierstrass_model(1,0,-c*d*e/2,-b*d*e^2/2))"
   ]
  },
  {
   "cell_type": "markdown",
   "id": "785665",
   "metadata": {
    "collapsed": false
   },
   "source": [
    "Next, we verify the claim that $v_3(4a+27b)=4.$ This is equivalent to showing that $4a+27b \\mod 3^5 = k \\cdot 3^4$ for $k \\in \\{1,2\\}$. So to show that $v_3(4a+27b)=4$, it suffices to consider congruence classes of $c,d,e,b$ modulo $3^5$. We demonstrate this with the code below, after implementing the assumptions of Subcase 2e. To this end, note that $v_3(a)=3$ is equivalent to $v_3(c)=1$ and $v_3(de)=0$."
   ]
  },
  {
   "cell_type": "code",
   "execution_count": 9,
   "id": "0905d5",
   "metadata": {
    "collapsed": false
   },
   "outputs": [
    {
     "name": "stdout",
     "output_type": "stream",
     "text": [
      "{4}\n"
     ]
    }
   ],
   "source": [
    "Z=[]\n",
    "for C in (1..3^5):\n",
    "    if gcd(C,9) ==3:\n",
    "        for D in (1..3^5):\n",
    "            for E in (1..3^5):\n",
    "                if (D*E).is_squarefree() and gcd(D*E,3)==1:\n",
    "                    for B in (1..3^5):\n",
    "                        A=C^3*D^2*E\n",
    "                        if gcd(A,B)==1 and A.valuation(3)==3 and  (A-27*B).valuation(3) ==3 and ZZ(mod(B*D^2*E^3*(B^3*D^2*E^5-C),9)) != 7:\n",
    "                            Z.append((4*A+27*B).valuation(3))\n",
    "print(Set(Z))"
   ]
  },
  {
   "cell_type": "markdown",
   "id": "8f2075",
   "metadata": {
    "collapsed": false
   },
   "source": [
    "It follows that $\\widetilde{F}'_T$ satisfies the first eight steps of Tate's Algorithm, from which we conclude that  $\\operatorname{typ}_3(\\widetilde{F}'_T)=\\rm{IV}^*$. Moreover, the local Tamagawa number depends on whether the quadratic polynomial\n",
    "$$Y^2 + (bc^3d^4e^5+27/4b^2d^2e^4)/81 = Y^2 +\\frac{1}{4}bd^2e^4(4a+27b)/81 \\equiv Y^2 + b(4a+27b)/81 \\mod 3$$\n",
    "splits in $\\mathbb{F}_3$."
   ]
  },
  {
   "cell_type": "markdown",
   "id": "700c69",
   "metadata": {
    "collapsed": false
   },
   "source": [
    "**Subcase 2f.** Suppose $v_3(a)\\ge 6, v_3(a) \\equiv 0 \\mod 3, v_3(a-27b)=3$, and $bd^2e^3(b^3d^2e^5-c) \\not \\equiv 7 \\mod 9$. In particular, $v_3(c)>0$ and $v_3(de)=0$. Let $\\widetilde{F}'_T$ be the elliptic curve obtained from $\\widetilde{F}_T$ from the isomorphism \n",
    "$$[1, -1/3c^2d^2e^2 + 3, -1/2cde, 1/6de (a - 3be - 9c)].$$ \n",
    "The Weierstrass model of $\\widetilde{F}'_T$ is given by the code below. From the assumptions, it is checked that the Weierstrass coefficients $a_i'$ of $\\widetilde{F}'_T$ satisfy $v_3(a'_1)=v_3(a'_3)=\\infty,v_3(a'_2)=2,v_3(a'_4)\\ge 4$. "
   ]
  },
  {
   "cell_type": "code",
   "execution_count": 10,
   "id": "4a5119",
   "metadata": {
    "collapsed": false
   },
   "outputs": [
    {
     "name": "stdout",
     "output_type": "stream",
     "text": [
      "a1= 0\n",
      "a2= (-3/4) * (c^2*d^2*e^2 - 12)\n",
      "a3= 0\n",
      "a4= (1/6) * (c^4*d^4*e^4 - 27*b*c*d^2*e^3 - 27*c^2*d^2*e^2 + 162)\n",
      "a6= (-1/108) * (c^3*d^3*e^3 - 27*b*d*e^2 - 27*c*d*e - 54) * (c^3*d^3*e^3 - 27*b*d*e^2 - 27*c*d*e + 54)\n",
      "None\n"
     ]
    }
   ],
   "source": [
    "Fprime = F3t(c,d,e,b).change_weierstrass_model(1, 3-1/3*c^2*d^2*e^2, -1/2*c*d*e, (1/6) * e * d * (c^3*d^2*e^2 - 3*b*e - 9*c))\n",
    "print(Ais(Fprime))"
   ]
  },
  {
   "cell_type": "markdown",
   "id": "a7b2b8",
   "metadata": {
    "collapsed": false
   },
   "source": [
    "The code below verifies that $v_3(4-b^2d^2e^4)=1$, and thus $v_3(a'_6)=4$ by considering congruence classes modulo 3^5, as done in Subcase 2e above. It follows from Tate's Algorithm that $\\operatorname{typ}_3(\\widetilde{F}'_T)=\\rm{IV}^*$. Moreover, the local Tamagawa number depends on whether the following polynomial splits in $\\mathbb{F}_3$:\n",
    "$$Y^2 -27/4(4-b^2d^2e^4)/81 \\equiv Y^2 - (4-b^2d^2e^4)/3 \\mod 3.$$"
   ]
  },
  {
   "cell_type": "code",
   "execution_count": 11,
   "id": "938cfb",
   "metadata": {
    "collapsed": false
   },
   "outputs": [
    {
     "name": "stdout",
     "output_type": "stream",
     "text": [
      "True\n"
     ]
    },
    {
     "name": "stdout",
     "output_type": "stream",
     "text": [
      "{1}\n"
     ]
    }
   ],
   "source": [
    "print(Fprime.a6() == (-1/108) * e^2 * d^2 * (e*c^3*d^2*e - 27*c) * (e*c^3*d^2*e - 54*b*e - 27*c) + 27/4*(4-b^2*d^2*e^4 ))\n",
    "Z=[]\n",
    "for C in (1..3^5):\n",
    "    if gcd(C,9) ==9:\n",
    "        for D in (1..3^5):\n",
    "            for E in (1..3^5):\n",
    "                if (D*E).is_squarefree() and gcd(D*E,3)==1:\n",
    "                    for B in (1..3^5):\n",
    "                        A=C^3*D^2*E\n",
    "                        if gcd(A,B)==1 and ZZ(mod(A.valuation(3),3))==0 and  (A-27*B).valuation(3) ==3 and ZZ(mod(B*D^2*E^3*(B^3*D^2*E^5-C),9)) != 7:\n",
    "                            Z.append((4-B^2*D^2*E^4).valuation(3))\n",
    "print(Set(Z))"
   ]
  },
  {
   "cell_type": "markdown",
   "id": "f1c570",
   "metadata": {
    "collapsed": false
   },
   "source": [
    "**Subcase 2g.** Suppose $v_3(a) \\equiv 0 \\mod 3, v_3(a-27b)=3$, and $bd^2e^3(b^3d^2e^5-c) \\equiv 7 \\mod 9$. This is considered in the article."
   ]
  },
  {
   "cell_type": "markdown",
   "id": "ad8fca",
   "metadata": {
    "collapsed": false
   },
   "source": [
    "**Subcase 2h.** Suppose $v_3(a)=2$. In particular, $v_3(ce)=0$ and $v_3(d)=1$. Let $\\widetilde{F}'_T$ be the elliptic curve obtained from $\\widetilde{F}_T$ from the isomorphism $[1,0,-cde/2,-bde^2/2]$. The Weierstrass model of $\\widetilde{F}'_T$ is given by the code below. It follows that $\\widetilde{F}'_T$ satisfies the first eight steps of Tate's Algorithm, from which we conclude that $\\operatorname{typ}_3(\\widetilde{F}'_T)=\\rm{IV}^*$. Moreover, the local Tamagawa number depends on whether the quadratic polynomial\n",
    "$$Y^2 + (bc^3d^4e^5+27/4b^2d^2e^4)/81 = Y^2 +\\frac{1}{4}bd^2e^4(4a+27b)/81 \\equiv Y^2 +ab/9 \\mod 3 =Y^2 +bec \\mod 3$$\n",
    "splits in $\\mathbb{F}_3$."
   ]
  },
  {
   "cell_type": "code",
   "execution_count": 12,
   "id": "43ff02",
   "metadata": {
    "collapsed": false
   },
   "outputs": [
    {
     "name": "stdout",
     "output_type": "stream",
     "text": [
      "Elliptic Curve defined by y^2 = x^3 + 1/4*c^2*d^2*e^2*x^2 + (-9/2*b*c*d^2*e^3)*x + (-b*c^3*d^4*e^5-27/4*b^2*d^2*e^4) over Fraction Field of Multivariate Polynomial Ring in a, b, c, d, e, t, r, s, w over Rational Field\n"
     ]
    }
   ],
   "source": [
    "print(F3t(c,d,e,b).change_weierstrass_model(1,0,-c*d*e/2,-b*d*e^2/2))"
   ]
  },
  {
   "cell_type": "markdown",
   "id": "5c6f8b",
   "metadata": {
    "collapsed": false
   },
   "source": [
    "**Subcase 2i.** Suppose $v_3(a) \\equiv 2 \\mod 3$ and $v_3(a)\\neq 2$. This is considered in the article."
   ]
  },
  {
   "cell_type": "markdown",
   "id": "98244e",
   "metadata": {
    "collapsed": false
   },
   "source": [
    "**Subcase 2j.** Suppose $v_3(a-27b)=5$. We note that $\\operatorname{sig}_3(\\widetilde{F}_T)=(\\geq 6,9,15)$ since the following identities hold (verified below):\n",
    "$$a+216b=(a-27b) +243b$$\n",
    "$$a^2-540ab-5832b^2=(a-27b)^2 -243b (2(a-27b) + 81b))$$"
   ]
  },
  {
   "cell_type": "code",
   "execution_count": 13,
   "id": "6e1417",
   "metadata": {
    "collapsed": false
   },
   "outputs": [
    {
     "name": "stdout",
     "output_type": "stream",
     "text": [
      "True\n",
      "True\n"
     ]
    }
   ],
   "source": [
    "print(a+216*b== (a-27*b) +243*b )\n",
    "print(a^2-540*a*b-5832*b^2==(a-27*b)^2 -243*b * (2*(a-27*b) + 81*b))"
   ]
  },
  {
   "cell_type": "markdown",
   "id": "3c2292",
   "metadata": {
    "collapsed": false
   },
   "source": [
    "**Subcase 2k.** Suppose $v_3(a-27b)\\geq 6$. This is considered in the article.\n",
    "\n",
    "**Subcase 2l.** Suppose $v_3(a)\\equiv 1 \\mod 3$. This is considered in the article."
   ]
  },
  {
   "cell_type": "code",
   "execution_count": 0,
   "id": "82b908",
   "metadata": {
    "collapsed": false
   },
   "outputs": [
   ],
   "source": [
   ]
  }
 ],
 "metadata": {
  "kernelspec": {
   "argv": [
    "sage-10.2",
    "--python",
    "-m",
    "sage.repl.ipython_kernel",
    "--matplotlib=inline",
    "-f",
    "{connection_file}"
   ],
   "display_name": "SageMath 10.2",
   "env": {
   },
   "language": "sagemath",
   "metadata": {
    "cocalc": {
     "description": "Open-source mathematical software system",
     "priority": 2,
     "url": "https://www.sagemath.org/"
    }
   },
   "name": "sage-10.2",
   "resource_dir": "/ext/jupyter/kernels/sage-10.2"
  },
  "language_info": {
   "codemirror_mode": {
    "name": "ipython",
    "version": 3
   },
   "file_extension": ".py",
   "mimetype": "text/x-python",
   "name": "python",
   "nbconvert_exporter": "python",
   "pygments_lexer": "ipython3",
   "version": "3.11.1"
  }
 },
 "nbformat": 4,
 "nbformat_minor": 4
}