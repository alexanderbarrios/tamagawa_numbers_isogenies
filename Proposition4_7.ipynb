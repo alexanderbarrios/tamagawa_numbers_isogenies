{
 "cells": [
  {
   "cell_type": "code",
   "execution_count": 3,
   "id": "852fb7",
   "metadata": {
    "collapsed": false
   },
   "outputs": [
   ],
   "source": [
    "load('definitions.sage')"
   ]
  },
  {
   "cell_type": "markdown",
   "id": "52925b",
   "metadata": {
    "collapsed": false
   },
   "source": [
    "The code below verifies the isomorphism\n",
    "\n",
    "$$\\psi:\\widetilde{E}_T(c^3,b^3) \\longrightarrow E_T(A,B),$$\n",
    "\n",
    "that appears in the proof of Proposition 4.7 of the article. With notation as in the proof, we have that $A'=(c+6b)^3$ and $B'=b(c^2+3cb+9b^2)$. Then $A=A'/g$ and $B=B'/g$, where $g=\\gcd(A',B')$."
   ]
  },
  {
   "cell_type": "code",
   "execution_count": 9,
   "id": "8ee6fb",
   "metadata": {
    "collapsed": false
   },
   "outputs": [
    {
     "data": {
      "text/plain": [
       "True"
      ]
     },
     "execution_count": 9,
     "metadata": {
     },
     "output_type": "execute_result"
    }
   ],
   "source": [
    "Aprime = (c+6*b)^3\n",
    "Bprime = b*(c^2+3*c*b+9*b^2)\n",
    "psi = (c^2*g/(c^2+12*c*b+36*b^2),c^5*b+3*c^4*b^2,3*c^2*b,4*c^6*b^3)\n",
    "print(E3t(c^3,b^3).change_weierstrass_model(psi) == E3(Aprime/g,Bprime/g))"
   ]
  }
 ],
 "metadata": {
  "kernelspec": {
   "argv": [
    "sage-9.6",
    "--python",
    "-m",
    "sage.repl.ipython_kernel",
    "--matplotlib=inline",
    "-f",
    "{connection_file}"
   ],
   "display_name": "SageMath 9.6",
   "env": {
   },
   "language": "sagemath",
   "metadata": {
    "cocalc": {
     "description": "Open-source mathematical software system",
     "priority": 1,
     "url": "https://www.sagemath.org/"
    }
   },
   "name": "sage-9.6",
   "resource_dir": "/ext/jupyter/kernels/sage-9.6"
  },
  "language_info": {
   "codemirror_mode": {
    "name": "ipython",
    "version": 3
   },
   "file_extension": ".py",
   "mimetype": "text/x-python",
   "name": "python",
   "nbconvert_exporter": "python",
   "pygments_lexer": "ipython3",
   "version": "3.10.12"
  }
 },
 "nbformat": 4,
 "nbformat_minor": 4
}